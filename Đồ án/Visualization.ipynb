{
  "nbformat": 4,
  "nbformat_minor": 0,
  "metadata": {
    "colab": {
      "name": "Visualization.ipynb",
      "provenance": [],
      "collapsed_sections": []
    },
    "kernelspec": {
      "name": "python3",
      "display_name": "Python 3"
    },
    "language_info": {
      "name": "python"
    },
    "accelerator": "GPU"
  },
  "cells": [
    {
      "cell_type": "code",
      "source": [
        "%%capture\n",
        "\n",
        "!pip install craft-text-detector\n",
        "!mkdir outputs"
      ],
      "metadata": {
        "id": "svC1EVW7FCQl"
      },
      "execution_count": null,
      "outputs": []
    },
    {
      "cell_type": "code",
      "source": [
        "import os\n",
        "import sys\n",
        "import shutil\n",
        "import matplotlib.pyplot as plt\n",
        "from craft_text_detector import (\n",
        "    read_image,\n",
        "    load_craftnet_model,\n",
        "    load_refinenet_model,\n",
        "    get_prediction,\n",
        "    export_detected_regions,\n",
        "    export_extra_results,\n",
        "    empty_cuda_cache\n",
        ")"
      ],
      "metadata": {
        "id": "opUBU974GKex"
      },
      "execution_count": null,
      "outputs": []
    },
    {
      "cell_type": "code",
      "source": [
        "def ClearPreOutput():\n",
        "    # Clear pre-output\n",
        "    shutil.rmtree('/content/outputs')\n",
        "    os.remove\n",
        "    !mkdir outputs"
      ],
      "metadata": {
        "id": "IepXjVqqGOZs"
      },
      "execution_count": null,
      "outputs": []
    },
    {
      "cell_type": "markdown",
      "source": [
        "# **Visualize Dataset**"
      ],
      "metadata": {
        "id": "JHS9OU-Vi3bu"
      }
    },
    {
      "cell_type": "markdown",
      "source": [
        "## **CRAFT**"
      ],
      "metadata": {
        "id": "HD91ortxHTqX"
      }
    },
    {
      "cell_type": "code",
      "source": [
        "def TextDetection(ImageName):\n",
        "    # set image path and export folder directory\n",
        "    image = ImageName # can be filepath, PIL image or numpy array\n",
        "    output_dir = 'outputs/'\n",
        "    image = read_image(image)\n",
        "\n",
        "    # load models\n",
        "    refine_net = load_refinenet_model(cuda=False)\n",
        "    craft_net = load_craftnet_model(cuda=False)\n",
        "\n",
        "    # perform prediction\n",
        "    prediction_result = get_prediction(\n",
        "        image=image,\n",
        "        craft_net=craft_net,\n",
        "        refine_net=refine_net,\n",
        "        text_threshold=0.7,\n",
        "        link_threshold=0.4,\n",
        "        low_text=0.4,\n",
        "        cuda=False,\n",
        "        long_size=1280\n",
        "    )\n",
        "\n",
        "    # export detected text regions\n",
        "    exported_file_paths = export_detected_regions(\n",
        "        image=image,\n",
        "        regions=prediction_result[\"boxes\"],\n",
        "        output_dir=output_dir,\n",
        "        rectify=True\n",
        "    )\n",
        "    \n",
        "    # export heatmap, detection points, box visualization\n",
        "    #export_extra_results(\n",
        "    #    image=image,\n",
        "    #    regions=prediction_result[\"boxes\"],\n",
        "    #    heatmaps=prediction_result[\"heatmaps\"],\n",
        "    #    output_dir=output_dir\n",
        "    #)\n",
        "\n",
        "\n",
        "    # unload models from gpu\n",
        "    empty_cuda_cache()"
      ],
      "metadata": {
        "id": "WX478uuUFLTr"
      },
      "execution_count": null,
      "outputs": []
    },
    {
      "cell_type": "markdown",
      "source": [
        "## **Visualize data**"
      ],
      "metadata": {
        "id": "PXfXKZ8YHW-I"
      }
    },
    {
      "cell_type": "code",
      "source": [
        "! gdown https://drive.google.com/uc?id=15jBhGtJsNF5IWJyMwRz39yQC4Z8uWEVw\n",
        "! unzip -qq -o ./Image.zip"
      ],
      "metadata": {
        "colab": {
          "base_uri": "https://localhost:8080/"
        },
        "id": "plyNCfaYHecd",
        "outputId": "a9b29540-78fe-496b-9f4a-95755d16751b"
      },
      "execution_count": null,
      "outputs": [
        {
          "output_type": "stream",
          "name": "stdout",
          "text": [
            "Downloading...\n",
            "From: https://drive.google.com/uc?id=1EfVsV7BADGNqu621CnCNfH4ixLKm66BZ\n",
            "To: /content/DT3.zip\n",
            "100% 182M/182M [00:05<00:00, 36.3MB/s]\n"
          ]
        }
      ]
    },
    {
      "cell_type": "code",
      "source": [
        "ls = os.listdir('/content/Image')\n",
        "print(\"Số lượng ảnh trong tập raw-dataset:\", ls.index(ls[-1]))"
      ],
      "metadata": {
        "colab": {
          "base_uri": "https://localhost:8080/"
        },
        "id": "aP6LMQ1oGi3J",
        "outputId": "54999ecf-7d9e-4fc6-a576-7b67d06dac23"
      },
      "execution_count": 33,
      "outputs": [
        {
          "output_type": "stream",
          "name": "stdout",
          "text": [
            "Số lượng ảnh trong tập raw-dataset: 1000\n"
          ]
        }
      ]
    },
    {
      "cell_type": "code",
      "source": [
        "%%capture\n",
        "\n",
        "numCrop = [0 for i in range(0,31)]\n",
        "path = '/content/outputs/image_crops/'\n",
        "for files in ls:\n",
        "    # Clear pre output\n",
        "    ClearPreOutput()\n",
        "    # Detect text in image\n",
        "    TextDetection('/content/Image/' + files)\n",
        "    # Get number of cropped images from an image\n",
        "    lsCrop = os.listdir(path)\n",
        "    count = lsCrop.index(lsCrop[-1])\n",
        "    if (count==0):\n",
        "        continue\n",
        "    if (count>30):\n",
        "        numCrop[30] += 1\n",
        "    else:\n",
        "        numCrop[count-1] += 1"
      ],
      "metadata": {
        "id": "r-lLIpOsILpF"
      },
      "execution_count": 35,
      "outputs": []
    },
    {
      "cell_type": "code",
      "source": [
        "# numCrop = [0, 21, 46, 87, 117, 136, 129, 93, 84, 65, 48, 38, 37, 29, 16, 8, 5, 7, 7, 3, 6, 2, 1, 1, 3, 1, 0, 1, 0, 0, 9]\n",
        "temp = [str(i) for i in range(0,30)]\n",
        "temp.append('30+')\n",
        "\n",
        "plt.figure(figsize=(10, 6), dpi=80)\n",
        "plt.bar(temp, numCrop)\n",
        "plt.title('')\n",
        "plt.xlabel('Number of cropped images')\n",
        "plt.ylabel('Number of images')\n",
        "plt.show()"
      ],
      "metadata": {
        "colab": {
          "base_uri": "https://localhost:8080/",
          "height": 426
        },
        "id": "XYxrbTz1Jv4R",
        "outputId": "d82d84ce-64f5-476b-fe74-da4ec93084c9"
      },
      "execution_count": 47,
      "outputs": [
        {
          "output_type": "display_data",
          "data": {
            "image/png": "[encoded data removed]",
            "text/plain": [
              "<Figure size 800x480 with 1 Axes>"
            ]
          },
          "metadata": {
            "needs_background": "light"
          }
        }
      ]
    },
    {
      "cell_type": "markdown",
      "source": [
        "# **Visualize result**"
      ],
      "metadata": {
        "id": "vXCxmYC5oDn_"
      }
    },
    {
      "cell_type": "code",
      "source": [
        "# Transformer OCR\n",
        "vgg_transformer_full = [80.84, 80.43, 79.75, 79.44, 78.66]\n",
        "vgg_transformer_per = [95.79, 95.82, 95.94, 95.45, 94.89]\n",
        "\n",
        "# Attention OCR\n",
        "vgg_seq2seq_full = [77.71, 79.48, 80.43, 78.94, 80.43]\n",
        "vgg_seq2seq_per = [94.70, 95.26, 95.65, 94.96, 95.02]\n",
        "\n",
        "# Iter\n",
        "iter = [4000, 6000, 8000, 10000, 12000]"
      ],
      "metadata": {
        "id": "6Mrb7hX1oGsi"
      },
      "execution_count": 41,
      "outputs": []
    },
    {
      "cell_type": "markdown",
      "source": [
        "## **Transformer OCR**"
      ],
      "metadata": {
        "id": "OYIezZUyoKyV"
      }
    },
    {
      "cell_type": "markdown",
      "source": [
        "**Accuracy full sequence**"
      ],
      "metadata": {
        "id": "DuSQvJHYoO7X"
      }
    },
    {
      "cell_type": "code",
      "source": [
        "plt.figure(figsize=(6, 6), dpi=80)\n",
        "plt.plot(iter, vgg_transformer_full, linestyle='--', marker='o', color='r', label='')\n",
        "plt.xlabel(\"Iter\")\n",
        "plt.ylabel(\"Accuracy\")\n",
        "plt.legend()"
      ],
      "metadata": {
        "colab": {
          "base_uri": "https://localhost:8080/",
          "height": 464
        },
        "id": "MBByvaEyoL84",
        "outputId": "ea066765-d01b-4544-81af-1f4c4dde39b0"
      },
      "execution_count": 42,
      "outputs": [
        {
          "output_type": "stream",
          "name": "stderr",
          "text": [
            "No handles with labels found to put in legend.\n"
          ]
        },
        {
          "output_type": "execute_result",
          "data": {
            "text/plain": [
              "<matplotlib.legend.Legend at 0x7f635c910d10>"
            ]
          },
          "metadata": {},
          "execution_count": 42
        },
        {
          "output_type": "display_data",
          "data": {
            "image/png": "[encoded data removed]",
            "text/plain": [
              "<Figure size 480x480 with 1 Axes>"
            ]
          },
          "metadata": {
            "needs_background": "light"
          }
        }
      ]
    },
    {
      "cell_type": "markdown",
      "source": [
        "**Accuracy per character**"
      ],
      "metadata": {
        "id": "FtHADqngoTHB"
      }
    },
    {
      "cell_type": "code",
      "source": [
        "plt.figure(figsize=(6, 6), dpi=80)\n",
        "plt.plot(iter, vgg_transformer_per, linestyle='--', marker='o', color='b', label='')\n",
        "plt.xlabel(\"Iter\")\n",
        "plt.ylabel(\"Accuracy\")\n",
        "plt.legend()"
      ],
      "metadata": {
        "colab": {
          "base_uri": "https://localhost:8080/",
          "height": 464
        },
        "id": "juI8KlIGoU5N",
        "outputId": "09b3c543-469f-4952-b808-7497a5ffcd2e"
      },
      "execution_count": 43,
      "outputs": [
        {
          "output_type": "stream",
          "name": "stderr",
          "text": [
            "No handles with labels found to put in legend.\n"
          ]
        },
        {
          "output_type": "execute_result",
          "data": {
            "text/plain": [
              "<matplotlib.legend.Legend at 0x7f635c8e2250>"
            ]
          },
          "metadata": {},
          "execution_count": 43
        },
        {
          "output_type": "display_data",
          "data": {
            "image/png": "[encoded data removed]",
            "text/plain": [
              "<Figure size 480x480 with 1 Axes>"
            ]
          },
          "metadata": {
            "needs_background": "light"
          }
        }
      ]
    },
    {
      "cell_type": "markdown",
      "source": [
        "***Nhận xét:*** Khi sử dụng Transformer OCR, nếu số vòng lặp cho quá trình huấn luyện càng tăng thì *Accuracy full sequence* và *Accuracy per character* càng giảm. Mô hình này đã được train với bộ dữ liệu văn bản tiếng Việt viết tay và được tác giả đánh giá khá cao. Tuy nhiên, với bộ dữ liệu của nhóm em, nó lại không hoạt động tốt và không được phù hợp"
      ],
      "metadata": {
        "id": "P20sA_8voXtt"
      }
    },
    {
      "cell_type": "markdown",
      "source": [
        "## **Attention OCR**"
      ],
      "metadata": {
        "id": "r3YnMNA8oYmQ"
      }
    },
    {
      "cell_type": "markdown",
      "source": [
        "**Accuracy full sequence**"
      ],
      "metadata": {
        "id": "5BoZudSAoctO"
      }
    },
    {
      "cell_type": "code",
      "source": [
        "plt.figure(figsize=(6, 6), dpi=80)\n",
        "plt.plot(iter, vgg_seq2seq_full, linestyle='--', marker='o', color='r', label='')\n",
        "plt.xlabel(\"Iter\")\n",
        "plt.ylabel(\"Accuracy\")\n",
        "plt.legend()"
      ],
      "metadata": {
        "colab": {
          "base_uri": "https://localhost:8080/",
          "height": 464
        },
        "id": "P_gYuPsRoepA",
        "outputId": "7b58486c-0594-4a6e-9ef7-9812d89258ac"
      },
      "execution_count": 44,
      "outputs": [
        {
          "output_type": "stream",
          "name": "stderr",
          "text": [
            "No handles with labels found to put in legend.\n"
          ]
        },
        {
          "output_type": "execute_result",
          "data": {
            "text/plain": [
              "<matplotlib.legend.Legend at 0x7f635c9a5290>"
            ]
          },
          "metadata": {},
          "execution_count": 44
        },
        {
          "output_type": "display_data",
          "data": {
            "image/png": "[encoded data removed]",
            "text/plain": [
              "<Figure size 480x480 with 1 Axes>"
            ]
          },
          "metadata": {
            "needs_background": "light"
          }
        }
      ]
    },
    {
      "cell_type": "markdown",
      "source": [
        "**Accuracy per character**"
      ],
      "metadata": {
        "id": "o9wHoXLkogQ4"
      }
    },
    {
      "cell_type": "code",
      "source": [
        "plt.figure(figsize=(6, 6), dpi=80)\n",
        "plt.plot(iter, vgg_seq2seq_per, linestyle='--', marker='o', color='b', label='')\n",
        "plt.xlabel(\"Iter\")\n",
        "plt.ylabel(\"Accuracy\")\n",
        "plt.legend()"
      ],
      "metadata": {
        "colab": {
          "base_uri": "https://localhost:8080/",
          "height": 464
        },
        "id": "z1JCkFz6oloG",
        "outputId": "8fd10468-b2b9-4542-8b4d-3451704382f9"
      },
      "execution_count": 45,
      "outputs": [
        {
          "output_type": "stream",
          "name": "stderr",
          "text": [
            "No handles with labels found to put in legend.\n"
          ]
        },
        {
          "output_type": "execute_result",
          "data": {
            "text/plain": [
              "<matplotlib.legend.Legend at 0x7f6361478290>"
            ]
          },
          "metadata": {},
          "execution_count": 45
        },
        {
          "output_type": "display_data",
          "data": {
            "image/png": "[encoded data removed]",
            "text/plain": [
              "<Figure size 480x480 with 1 Axes>"
            ]
          },
          "metadata": {
            "needs_background": "light"
          }
        }
      ]
    },
    {
      "cell_type": "markdown",
      "source": [
        "***Nhận xét:*** Ngược lại vơi Transformer OCR, Attention OCR lại cho kết quả tốt hơn. Theo em, có vẻ với kiến trúc Attention kết hợp với mô hình seq2seq (LSTM) thì hoạt động tốt hơn với bộ dataset của nhóm em, cụ thể là với mỗi ảnh crop, văn bản trong ảnh được crop có nhiều nhiễu hơn và ngắn hơn so với bộ dataset tác giả đã huấn luyện\n",
        "\n",
        "***Kết luận chung:*** Attention OCR có thể hoạt động tốt hơn Transformer OCR với các bộ dataset ít nhiễu, văn bản rõ ràng. Do đó Attention OCR phù hợp với bộ dataset của nhóm em hơn"
      ],
      "metadata": {
        "id": "TKNH9r-9omV0"
      }
    }
  ]
}