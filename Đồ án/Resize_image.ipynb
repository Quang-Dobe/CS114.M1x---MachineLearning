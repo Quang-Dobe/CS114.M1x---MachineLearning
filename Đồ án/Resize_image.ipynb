{
  "nbformat": 4,
  "nbformat_minor": 0,
  "metadata": {
    "colab": {
      "name": "Resize_image.ipynb",
      "provenance": [],
      "collapsed_sections": []
    },
    "kernelspec": {
      "name": "python3",
      "display_name": "Python 3"
    },
    "language_info": {
      "name": "python"
    },
    "accelerator": "GPU"
  },
  "cells": [
    {
      "cell_type": "code",
      "execution_count": null,
      "metadata": {
        "colab": {
          "base_uri": "https://localhost:8080/"
        },
        "id": "Gj-yc6LB6ObY",
        "outputId": "6f178599-3661-45c0-8a0b-d22bb5a8f7c2"
      },
      "outputs": [
        {
          "output_type": "stream",
          "name": "stdout",
          "text": [
            "Mounted at /content/drive\n"
          ]
        }
      ],
      "source": [
        "from google.colab import drive\n",
        "drive.mount('/content/drive')"
      ]
    },
    {
      "cell_type": "code",
      "source": [
        "import pandas as pd\n",
        "import numpy as np\n",
        "import cv2\n",
        "import matplotlib.pyplot as plt\n",
        "from PIL import Image\n",
        "import os\n",
        "from google.colab.patches import cv2_imshow"
      ],
      "metadata": {
        "id": "iz_oGcJc62wJ"
      },
      "execution_count": null,
      "outputs": []
    },
    {
      "cell_type": "code",
      "source": [
        "def resize_image(path_img, path_save):\n",
        "  img = Image.open(path_img,mode='r')\n",
        "  size = img.size\n",
        "  x = size[0]\n",
        "  if size[0] > 523:\n",
        "    while x > 523:\n",
        "      x = x - 20\n",
        "      y = int(round(x*round(size[1]/size[0], 2), 0))\n",
        "      img = img.resize((x, y))\n",
        "  elif size[0] < 523:\n",
        "    while x < 523:\n",
        "      x = x + 20\n",
        "      y = int(round(x*round(size[1]/size[0],2), 0))\n",
        "      img = img.resize((x, y))\n",
        "  x = 523\n",
        "  y = int(round(x*round(size[1]/size[0], 2), 0))\n",
        "  img = img.resize((x, y))\n",
        "  img.save(path_save)\n",
        "\n",
        "def resize_foder(path_s, path_d):\n",
        "  for file_foder in os.listdir(path_s):\n",
        "    path_file_foder_s = os.path.join(path_s, file_foder)\n",
        "    path_file_foder_d = os.path.join(path_d, file_foder)\n",
        "    os.mkdir(path_file_foder_d)\n",
        "    for file_name in os.listdir(path_file_foder_s):\n",
        "      path_file_name = os.path.join(path_file_foder_s, file_name)\n",
        "      name_save = path_file_foder_d + '/' + file_name.split('.')[0] + '.jpg'\n",
        "      resize_image(path_file_name, name_save)\n",
        "\n",
        "def check_resize(path):\n",
        "  for file_foder in os.listdir(path):\n",
        "    path_file_foder = os.path.join(path, file_foder)\n",
        "    for file_name in os.listdir(path_file_foder):\n",
        "      path_file_name = os.path.join(path_file_foder, file_name)\n",
        "      img = Image.open(path_file_name, mode='r')\n",
        "      size = img.size\n",
        "      if size[0] != 523:\n",
        "        print(file_name)"
      ],
      "metadata": {
        "id": "nKMuwjEUGdWY"
      },
      "execution_count": null,
      "outputs": []
    },
    {
      "cell_type": "code",
      "source": [
        "path_scr_Thai = '/content/drive/MyDrive/Tài liệu/Học kì 3/Máy học/CROP_img/Thai'\n",
        "path_dest_Thai = '/content/drive/MyDrive/Tài liệu/Học kì 3/Máy học/Resize_img/Thái'"
      ],
      "metadata": {
        "id": "rC7Tcvu9KMjC"
      },
      "execution_count": null,
      "outputs": []
    },
    {
      "cell_type": "code",
      "source": [
        "path_scr_An = '/content/drive/MyDrive/Tài liệu/Học kì 3/Máy học/CROP_img/An'\n",
        "path_dest_An = '/content/drive/MyDrive/Tài liệu/Học kì 3/Máy học/Resize_img/An'"
      ],
      "metadata": {
        "id": "FvxUCA6KQAJ-"
      },
      "execution_count": null,
      "outputs": []
    },
    {
      "cell_type": "code",
      "source": [
        "path_scr_Quang = '/content/drive/MyDrive/Tài liệu/Học kì 3/Máy học/CROP_img/Quang'\n",
        "path_dest_Quang = '/content/drive/MyDrive/Tài liệu/Học kì 3/Máy học/Resize_img/Quang'"
      ],
      "metadata": {
        "id": "1QD7-3HEQkeA"
      },
      "execution_count": null,
      "outputs": []
    },
    {
      "cell_type": "markdown",
      "source": [
        "## **Resize folder**"
      ],
      "metadata": {
        "id": "fuNusxg_4EYg"
      }
    },
    {
      "cell_type": "code",
      "source": [
        "resize_foder(path_scr_Thai,path_dest_Thai)"
      ],
      "metadata": {
        "id": "VV_Qa8ySMAWH"
      },
      "execution_count": null,
      "outputs": []
    },
    {
      "cell_type": "code",
      "source": [
        "resize_foder(path_scr_An,path_dest_An)"
      ],
      "metadata": {
        "id": "ldXV1xg4QPGo"
      },
      "execution_count": null,
      "outputs": []
    },
    {
      "cell_type": "code",
      "source": [
        "resize_foder(path_scr_Quang,path_dest_Quang)"
      ],
      "metadata": {
        "id": "UIVFt9o1Rfdi"
      },
      "execution_count": null,
      "outputs": []
    },
    {
      "cell_type": "markdown",
      "source": [
        "## **Check resized images**"
      ],
      "metadata": {
        "id": "2Xf6pc7D4TWn"
      }
    },
    {
      "cell_type": "code",
      "source": [
        "check_resize(path_dest_Thai)"
      ],
      "metadata": {
        "id": "LqWUNs_qPzXu"
      },
      "execution_count": null,
      "outputs": []
    },
    {
      "cell_type": "code",
      "source": [
        "check_resize(path_dest_An)"
      ],
      "metadata": {
        "id": "IPlyU6ZzP3lk"
      },
      "execution_count": null,
      "outputs": []
    },
    {
      "cell_type": "code",
      "source": [
        "check_resize(path_dest_Quang)"
      ],
      "metadata": {
        "id": "NzQ68-syRw7Y"
      },
      "execution_count": null,
      "outputs": []
    }
  ]
}