{
  "nbformat": 4,
  "nbformat_minor": 0,
  "metadata": {
    "colab": {
      "name": "Crop_Img.ipynb",
      "provenance": [],
      "collapsed_sections": []
    },
    "kernelspec": {
      "name": "python3",
      "display_name": "Python 3"
    },
    "language_info": {
      "name": "python"
    },
    "accelerator": "GPU"
  },
  "cells": [
    {
      "cell_type": "code",
      "execution_count": null,
      "metadata": {
        "colab": {
          "base_uri": "https://localhost:8080/"
        },
        "id": "m-XpjdMvPcxW",
        "outputId": "2cbfd12d-cde5-4e3f-cd9a-d640f3464070"
      },
      "outputs": [
        {
          "output_type": "stream",
          "name": "stdout",
          "text": [
            "Drive already mounted at /content/drive; to attempt to forcibly remount, call drive.mount(\"/content/drive\", force_remount=True).\n"
          ]
        }
      ],
      "source": [
        "from google.colab import drive\n",
        "drive.mount('/content/drive')"
      ]
    },
    {
      "cell_type": "code",
      "source": [
        "from PIL import Image\n",
        "import cv2\n",
        "import os\n",
        "import pandas as pd\n",
        "import numpy as np"
      ],
      "metadata": {
        "id": "HjVacB00Pt9B"
      },
      "execution_count": null,
      "outputs": []
    },
    {
      "cell_type": "code",
      "source": [
        "path_MLdata = '/content/drive/MyDrive/ML_Dataset'\n",
        "path_Thai = '/content/drive/MyDrive/ML_Dataset/Thái (201-400)'\n",
        "path_save_Thai = '/content/drive/MyDrive/Tài liệu/Học kì 3/Máy học/CROP_img/Thai'\n",
        "path_label_Thai = os.path.join(path_Thai,'Thái')\n",
        "path_image_Thai = os.path.join(path_Thai,'image')"
      ],
      "metadata": {
        "id": "TTZS9NO-Qwgu"
      },
      "execution_count": null,
      "outputs": []
    },
    {
      "cell_type": "code",
      "source": [
        "path_Quang = '/content/drive/MyDrive/ML_Dataset/Quang (1-200)'\n",
        "path_save_Quang = '/content/drive/MyDrive/Tài liệu/Học kì 3/Máy học/CROP_img/Quang'\n",
        "path_label_Quang = os.path.join(path_Quang,'Label')\n",
        "path_image_Quang = os.path.join(path_Quang,'Dataset')"
      ],
      "metadata": {
        "id": "iC4Y2h1HcbXu"
      },
      "execution_count": null,
      "outputs": []
    },
    {
      "cell_type": "code",
      "source": [
        "path_An = '/content/drive/MyDrive/ML_Dataset/An (401-600)'\n",
        "path_save_An = '/content/drive/MyDrive/Tài liệu/Học kì 3/Máy học/CROP_img/An'\n",
        "path_label_An = '/content/drive/MyDrive/ML_Dataset/An(401-600)/label/txtabel401-604'\n",
        "path_image_An = os.path.join(path_An,'Dataset')"
      ],
      "metadata": {
        "id": "eeRrtZiyiE66"
      },
      "execution_count": null,
      "outputs": []
    },
    {
      "cell_type": "code",
      "source": [
        "def read_data(path_filetxt):\n",
        "  with open(path_filetxt, encoding='UTF-8-SIG') as f:\n",
        "    data = f.readlines()\n",
        "  return_list = []\n",
        "  array = [0,1,4,5]\n",
        "  for line in data:\n",
        "    if line == '\\n':\n",
        "      continue\n",
        "    list_td = [float(line.split(',')[i]) for i in array]\n",
        "    if list_td[1] > float(line.split(',')[3]):\n",
        "      list_td[1] = float(line.split(',')[3])\n",
        "    if list_td[3] < float(line.split(',')[7]):\n",
        "      list_td[3] = float(line.split(',')[7])\n",
        "    return_list.append(list_td)\n",
        "  return return_list"
      ],
      "metadata": {
        "id": "6yxXGtyKSsuf"
      },
      "execution_count": null,
      "outputs": []
    },
    {
      "cell_type": "code",
      "source": [
        "def crop_img(path_label, path_image, path_save):\n",
        "  for file_name in os.listdir(path_label):\n",
        "    path_file = os.path.join(path_label, file_name)\n",
        "    array_td = read_data(path_file)\n",
        "    path_foder_save = os.path.join(path_save, file_name.split('.')[0])\n",
        "    os.mkdir(path_foder_save)\n",
        "    nameimg = file_name.split('.')[0] + '.jpg'\n",
        "    path_filename_img = os.path.join(path_image, nameimg)\n",
        "    img = Image.open(path_filename_img)\n",
        "    flag = 1\n",
        "    for i in array_td:\n",
        "      img_res = img.crop(i)\n",
        "      name_save = str(flag) + '.jpg'\n",
        "      flag += 1\n",
        "      save_crop = os.path.join(path_foder_save, name_save)\n",
        "      img_res.save(save_crop)"
      ],
      "metadata": {
        "id": "eLtIAVcQeOq8"
      },
      "execution_count": null,
      "outputs": []
    },
    {
      "cell_type": "code",
      "source": [
        "# crop file của Thái\n",
        "crop_img(path_label_Thai, path_image_Thai, path_save_Thai)"
      ],
      "metadata": {
        "colab": {
          "base_uri": "https://localhost:8080/"
        },
        "id": "VSEaGtosiD0_",
        "outputId": "20e3a7de-fcdd-4d21-da14-3a0b88954bce"
      },
      "execution_count": null,
      "outputs": [
        {
          "output_type": "stream",
          "name": "stderr",
          "text": [
            "/usr/local/lib/python3.7/dist-packages/PIL/Image.py:2800: DecompressionBombWarning: Image size (108576768 pixels) exceeds limit of 89478485 pixels, could be decompression bomb DOS attack.\n",
            "  DecompressionBombWarning,\n"
          ]
        }
      ]
    },
    {
      "cell_type": "code",
      "source": [
        "#crop file của Quang\n",
        "crop_img(path_label_Quang, path_image_Quang, path_save_Quang)"
      ],
      "metadata": {
        "id": "PQljpOW17kaf"
      },
      "execution_count": null,
      "outputs": []
    },
    {
      "cell_type": "code",
      "source": [
        "#check có file nào bị lỗi format hay không\n",
        "def read_data_format(path_filetxt):\n",
        "  with open(path_filetxt,encoding='UTF-8-SIG') as f:\n",
        "    data = f.readlines()\n",
        "  return_list = []\n",
        "  array = [0,1,4,5]\n",
        "  for line in data:\n",
        "    if line == '\\n':\n",
        "      continue\n",
        "    try:\n",
        "      list_td = [float(line.split(',')[i]) for i in array]\n",
        "    except:\n",
        "      print(path_filetxt.split('/')[-1])\n",
        "      k = line.split(',')[0]\n",
        "      print(k)\n",
        "      continue\n",
        "    try:\n",
        "      if list_td[1] > float(line.split(',')[3]):\n",
        "        list_td[1] = float(line.split(',')[3])\n",
        "      if list_td[3] < float(line.split(',')[7]):\n",
        "        list_td[3] = float(line.split(',')[7])\n",
        "    except:\n",
        "      print(path_filetxt.split('/')[-1])\n",
        "      print(line.split(','))\n",
        "      continue\n",
        "    return_list.append(list_td)\n",
        "  return return_list\n",
        "def thusaiformat(path_label):\n",
        "  for file_name in os.listdir(path_label):\n",
        "    path_file = os.path.join(path_label, file_name)\n",
        "    array_td = read_data_format(path_file)"
      ],
      "metadata": {
        "id": "I53hMIgGZ7re"
      },
      "execution_count": null,
      "outputs": []
    },
    {
      "cell_type": "code",
      "source": [
        "thusaiformat(path_label_An)"
      ],
      "metadata": {
        "colab": {
          "base_uri": "https://localhost:8080/"
        },
        "id": "6I8WneGWaT1Z",
        "outputId": "cedffd52-e2e9-4534-d26a-98a27796c986"
      },
      "execution_count": null,
      "outputs": [
        {
          "output_type": "stream",
          "name": "stdout",
          "text": [
            "518.txt\n",
            "['72', '844', '180', '846', '179', '871', '71', '869u', ' \\n']\n",
            "555.txt\n",
            "['703', '1120', '985', '1117', '985', '1151', '704', '1155(Tái bản lần thứ 16)\\n']\n"
          ]
        }
      ]
    },
    {
      "cell_type": "code",
      "source": [
        "from google.colab.patches import cv2_imshow\n",
        "from shutil import copytree,move"
      ],
      "metadata": {
        "id": "Zm3fKcAmZzi7"
      },
      "execution_count": null,
      "outputs": []
    },
    {
      "cell_type": "code",
      "source": [
        "path_dest = '/content/drive/MyDrive/Tài liệu/Học kì 3/Máy học/CROP_img/Copyfile'\n",
        "path_src = '/content/drive/MyDrive/ML_Dataset/An (401-600)/img_crop'"
      ],
      "metadata": {
        "id": "R4AE0YY9mbJI"
      },
      "execution_count": null,
      "outputs": []
    },
    {
      "cell_type": "code",
      "source": [
        "copytree(path_src, path_dest)"
      ],
      "metadata": {
        "colab": {
          "base_uri": "https://localhost:8080/",
          "height": 36
        },
        "id": "HEV60E6nm3zE",
        "outputId": "e4c18e24-0551-4d20-e67e-2b258af4752c"
      },
      "execution_count": null,
      "outputs": [
        {
          "output_type": "execute_result",
          "data": {
            "application/vnd.google.colaboratory.intrinsic+json": {
              "type": "string"
            },
            "text/plain": [
              "'/content/drive/MyDrive/Tài liệu/Học kì 3/Máy học/CROP_img/Copyfile'"
            ]
          },
          "metadata": {},
          "execution_count": 13
        }
      ]
    },
    {
      "cell_type": "code",
      "source": [
        "path_copyfile = '/content/drive/MyDrive/Tài liệu/Học kì 3/Máy học/CROP_img/An'"
      ],
      "metadata": {
        "id": "698euMJ-nAcy"
      },
      "execution_count": null,
      "outputs": []
    },
    {
      "cell_type": "code",
      "source": [
        "def check_foder(path_foder):\n",
        "  for file_name in os.listdir(path_foder):\n",
        "    path_file = os.path.join(path_foder, file_name)\n",
        "    for file_name_1 in os.listdir(path_file):\n",
        "      path_file_1 = os.path.join(path_file, file_name_1)\n",
        "      list_dir = os.listdir(path_file_1)\n",
        "      if 'image_crops' not in list_dir:\n",
        "        print(file_name_1)"
      ],
      "metadata": {
        "id": "fWilbUlwuDqP"
      },
      "execution_count": null,
      "outputs": []
    },
    {
      "cell_type": "code",
      "source": [
        "check_foder(path_copyfile)"
      ],
      "metadata": {
        "colab": {
          "base_uri": "https://localhost:8080/"
        },
        "id": "YQWfyeRXvcWS",
        "outputId": "3063ef4f-3704-46a2-89aa-f3aad4379e3d"
      },
      "execution_count": null,
      "outputs": [
        {
          "output_type": "stream",
          "name": "stdout",
          "text": [
            "401\n"
          ]
        }
      ]
    },
    {
      "cell_type": "code",
      "source": [
        "#delete file \n",
        "def delete_file(path_foder):\n",
        "  for file_name in os.listdir(path_foder):\n",
        "    path_file = os.path.join(path_foder, file_name)\n",
        "    for file_name_1 in os.listdir(path_file):\n",
        "      path_file_1 = os.path.join(path_file, file_name_1)\n",
        "      list_dir = os.listdir(path_file_1)\n",
        "      for file in list_dir:\n",
        "        if file != 'image_crops':\n",
        "          path_file_delete = os.path.join(path_file_1, file)\n",
        "          os.remove(path_file_delete)          "
      ],
      "metadata": {
        "id": "nDJB5_LbvfkK"
      },
      "execution_count": null,
      "outputs": []
    },
    {
      "cell_type": "code",
      "source": [
        "delete_file(path_copyfile)"
      ],
      "metadata": {
        "id": "D0WKPv3TwY7h"
      },
      "execution_count": null,
      "outputs": []
    },
    {
      "cell_type": "code",
      "source": [
        "def move_file(path_foder):\n",
        "    for file_name in os.listdir(path_foder):\n",
        "      path_file=os.path.join(path_foder,file_name)\n",
        "      for file_name_1 in os.listdir(path_file):\n",
        "        path_file_1=os.path.join(path_file,file_name_1)\n",
        "        path_img_crop=os.path.join(path_file_1,'image_crops')\n",
        "        for file in os.listdir(path_img_crop):\n",
        "          path_src=os.path.join(path_img_crop,file)\n",
        "          move(path_src,path_file_1)"
      ],
      "metadata": {
        "id": "vs5Ixdbhwcn5"
      },
      "execution_count": null,
      "outputs": []
    },
    {
      "cell_type": "code",
      "source": [
        "move_file(path_copyfile)"
      ],
      "metadata": {
        "id": "n_hxm5PK0j2j"
      },
      "execution_count": null,
      "outputs": []
    },
    {
      "cell_type": "code",
      "source": [
        "def delete_fodir(path_foder):\n",
        "  for file_name in os.listdir(path_foder):\n",
        "      path_file=os.path.join(path_foder,file_name)\n",
        "      for file_name_1 in os.listdir(path_file):\n",
        "        path_file_1=os.path.join(path_file,file_name_1)\n",
        "        path_img_crop=os.path.join(path_file_1,'image_crops')\n",
        "        os.rmdir(path_img_crop)"
      ],
      "metadata": {
        "id": "84bOYJ5H0wjE"
      },
      "execution_count": null,
      "outputs": []
    },
    {
      "cell_type": "code",
      "source": [
        "delete_fodir(path_copyfile)"
      ],
      "metadata": {
        "id": "RuoDNtGd2d3t"
      },
      "execution_count": null,
      "outputs": []
    },
    {
      "cell_type": "code",
      "source": [
        "def move_foder(path_foder):\n",
        "  for file_name in os.listdir(path_foder):\n",
        "      path_file = os.path.join(path_foder, file_name)\n",
        "      for file_name_1 in os.listdir(path_file):\n",
        "        path_file_1 = os.path.join(path_file, file_name_1)\n",
        "        move(path_file_1, path_foder)"
      ],
      "metadata": {
        "id": "HJZ7ii9K2hUZ"
      },
      "execution_count": null,
      "outputs": []
    },
    {
      "cell_type": "code",
      "source": [
        "move_foder(path_copyfile)"
      ],
      "metadata": {
        "id": "MUZ5Gbuh35ji"
      },
      "execution_count": null,
      "outputs": []
    }
  ]
}